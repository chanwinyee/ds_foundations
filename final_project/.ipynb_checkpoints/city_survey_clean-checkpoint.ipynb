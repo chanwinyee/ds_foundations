{
 "cells": [
  {
   "cell_type": "code",
   "execution_count": 1,
   "metadata": {},
   "outputs": [],
   "source": [
    "# import all the libraries\n",
    "\n",
    "# Data exploration and analysis tools\n",
    "import pandas as pd\n",
    "import seaborn as sns\n",
    "import numpy as np\n",
    "from ast import literal_eval\n",
    "import re as re"
   ]
  },
  {
   "cell_type": "code",
   "execution_count": 2,
   "metadata": {},
   "outputs": [],
   "source": [
    "survey_data = pd.read_csv('San_Francisco_City_Survey_Data_1996-2017.csv')"
   ]
  },
  {
   "cell_type": "code",
   "execution_count": 3,
   "metadata": {},
   "outputs": [],
   "source": [
    "survey_df = pd.DataFrame(data=survey_data)"
   ]
  },
  {
   "cell_type": "code",
   "execution_count": 4,
   "metadata": {
    "scrolled": false
   },
   "outputs": [
    {
     "name": "stdout",
     "output_type": "stream",
     "text": [
      "92\n",
      "92\n"
     ]
    }
   ],
   "source": [
    "total_columns = survey_df.columns\n",
    "print(len(total_columns))\n",
    "print(survey_df.columns.nunique())"
   ]
  },
  {
   "cell_type": "code",
   "execution_count": 5,
   "metadata": {},
   "outputs": [],
   "source": [
    "# Data Dictionary for survey data\n",
    "column_names = {\n",
    "    'id':'Unique id',\n",
    "    'year':'Survey year',\n",
    "    'mode':'survey mode',\n",
    "    'language':'survey language',\n",
    "    'dlivedsf':'Length of SF residence 1996-2009 (Groupings change in 2011)',\n",
    "    'primlang_1':'primary language 1',\n",
    "    'primlang_2':'primary language',\n",
    "    'primlang_3':'primary language',\n",
    "    'primlang_4':'primary_language',\n",
    "    'dage':'Respondents age group (Age groups change in 2011, 2017)',\n",
    "    'dethnic':'Respondents ethnicity',\n",
    "    'mixed_1':'mixed race or ethnics',\n",
    "    'mixed_2':'mixed race or ethnics',\n",
    "    'mixed_3':'mixed race or ethnics',\n",
    "    'mixed_4':'mixed race or ethnics',\n",
    "    'deduc':'Respondents highest education completed',\n",
    "    'dincome':'Household income year prior to survey',\n",
    "    'dhouse':'Number of people in household',\n",
    "    'ownrenhm':'Own or rent home',\n",
    "    'gender':'Respondents sex',\n",
    "    'dsexornt':'Respondents sexual orientation',\n",
    "    'zipcode':'zipcode',\n",
    "    'district':'Supervisorial District',\n",
    "    'movesf':'Likelihood of moving away from SF in the next 3 years',\n",
    "    'disablephys':'physically disabled',\n",
    "    'disablement':'mentally disabled'    \n",
    "}\n",
    "\n",
    "mode_dict={\n",
    "    1:'phone',\n",
    "    2:'mail',\n",
    "    3:'web/phone',\n",
    "    4:'web/mail'\n",
    "}\n",
    "\n",
    "language_dict={\n",
    "    1:'English',\n",
    "    2:'Spanish',\n",
    "    3:'Chinese',\n",
    "    4:'Tagalog'\n",
    "}\n",
    "\n",
    "dividedsf_dict={\n",
    "    1:'Less than 2 years',\n",
    "    2:'3-5 years',\n",
    "    3:'6-10 years',\n",
    "    4:'11-20 years',\n",
    "    5:'21-30 years',\n",
    "    6:'more than 30 years',\n",
    "    7:'Dont know/No answer'\n",
    "}\n",
    "\n",
    "dage_dict={\n",
    "    1:'18-24',\n",
    "    2:'25-34',\n",
    "    3:'35-44',\n",
    "    4:'45-54',\n",
    "    5:'55-64 (2017 = 55-59)',\n",
    "    6:'65+ (2017=60-64)',\n",
    "    7:'65+ (2017)',\n",
    "    8:'No answer'\n",
    "}\n",
    "\n",
    "dethnic_dict={\n",
    "    1:'Black/African American',\n",
    "    2:'Asian or Pacific Islander',\n",
    "    3:'Latino/Hispanic',\n",
    "    4:'Native American/Indian',\n",
    "    5:'White/Caucasian',\n",
    "    6:'Other',\n",
    "    7:'Mixed Ethnicity',\n",
    "    8:'Dont know',\n",
    "    9:'Refused/No answer',\n",
    "    10:'Pacific Islander',\n",
    "    11:'Arab / Middle Eastern /North African ( 2015 Only); Arab,Middle Eastern, South Asian (2017)',\n",
    "    12:'Mixed Unspecified',\n",
    "    13:'Caribbean (2017)'\n",
    "}\n",
    "\n",
    "deduc_dict={\n",
    "    1:'Less than high school',\n",
    "    2:'High school',\n",
    "    3:'Less than 4 years of college',\n",
    "    4:'4 or more years of college/Post Graduate',\n",
    "    5:'No answer',\n",
    "}\n",
    "\n",
    "dincome_dict={\n",
    "    1:'$10,000 or less',\n",
    "    2:'$10,001 to $25,000',\n",
    "    3:'$25,001 to $35,000 (2015+)',\n",
    "    4:'$35,001 to $50,000 (2015+)',\n",
    "    5:'$50,001 to $100,000',\n",
    "    6:'$100,001 to $200,000',\n",
    "    7:'Over $200,000',\n",
    "    8:'Refused',\n",
    "    9:'$25,000-$49,999 (1996-2013)',\n",
    "}\n",
    "\n",
    "dhouse_dict={\n",
    "    1:'1 (just me)',\n",
    "    2:'2',\n",
    "    3:'3',\n",
    "    4:'4',\n",
    "    5:'5 or more',\n",
    "    6:'6 or more (2015, 2017)',\n",
    "    7:'No answer/refused',\n",
    "}\n",
    "\n",
    "gender_dict={\n",
    "    1:'Female',\n",
    "    2:'Male',\n",
    "    3:'Other',\n",
    "    4:'No answer/Refused',\n",
    "}\n",
    "\n",
    "movesf_dict={\n",
    "    1:'Very likely',\n",
    "    2:'Somewhat likely',\n",
    "    3:'Not too likely',\n",
    "    4:'Not at all likely',\n",
    "    5:'Dont know/No answer'\n",
    "}"
   ]
  },
  {
   "cell_type": "code",
   "execution_count": 6,
   "metadata": {},
   "outputs": [
    {
     "name": "stdout",
     "output_type": "stream",
     "text": [
      "4\n",
      "9\n",
      "13\n",
      "['id', 'year', 'mode', 'language', 'dlivedsf', 'dage', 'dethnic', 'deduc', 'dincome', 'dhouse', 'gender', 'zipcode', 'movesf']\n"
     ]
    }
   ],
   "source": [
    "survey_info = ['id','year','mode','language']\n",
    "demographics = ['dlivedsf','dage','dethnic','deduc','dincome','dhouse','gender','zipcode','movesf']\n",
    "active_columns = survey_info + demographics\n",
    "\n",
    "print(len(survey_info))\n",
    "print(len(demographics))\n",
    "print(len(active_columns))\n",
    "\n",
    "print(active_columns)"
   ]
  },
  {
   "cell_type": "code",
   "execution_count": 7,
   "metadata": {},
   "outputs": [],
   "source": [
    "discard_columns = []\n",
    "\n",
    "for t in total_columns:\n",
    "    if t not in active_columns:\n",
    "        discard_columns.append(t)\n"
   ]
  },
  {
   "cell_type": "code",
   "execution_count": 8,
   "metadata": {},
   "outputs": [
    {
     "name": "stdout",
     "output_type": "stream",
     "text": [
      "['finweigh', 'general', 'stpvnbrd', 'swcndnbrd', 'cityligh', 'wtrswr', 'water', 'sewer', 'swclnbrd', 'stclnbrd', 'stswc', 'recparsy', 'parkvis', 'athfield', 'recpart', 'parkfa', 'recpract', 'parkgr', 'parklp', 'parkcl', 'libsystm', 'libmai', 'libbra', 'libonlin', 'libbo', 'onlibsvc', 'netlibsvc', 'libsta', 'conmalib', 'connelib', 'trspwlk', 'trsppub', 'trspbike', 'trsptaxi', 'trspdaln', 'trspcpl', 'trspptns', 'trspuber', 'munovr', 'mun12mth', 'muntim', 'muncle', 'munsaf', 'munmgmtcro', 'muncou', 'safdnb', 'safnnb', 'hrd311', 'cont311', 'use311sv', 'info311', 'infowebm', 'svc311', 'svcwebmo', 'phone311', 'web311', 'kids', 'k0to5', 'k6to18', 'kprisch', 'kpubsch', 'knosch', 'kqschl', 'ownrenhm', 'dsexornt', 'primlang_1', 'primlang_2', 'primlang_3', 'primlang_4', 'disablephys', 'disablement', 'district', 'mixed_1', 'mixed_2', 'mixed_3', 'mixed_4', 'issue1', 'issue2', 'issue3']\n"
     ]
    }
   ],
   "source": [
    "print(discard_columns)"
   ]
  },
  {
   "cell_type": "code",
   "execution_count": 9,
   "metadata": {},
   "outputs": [],
   "source": [
    "survey_df_clean = survey_df.copy()\n",
    "survey_df_clean = survey_df_clean.drop(columns=discard_columns)\n",
    "survey_df_clean = survey_df_clean[survey_df_clean['year'].isin(['2018','2017','2016','2015'])]"
   ]
  },
  {
   "cell_type": "code",
   "execution_count": 10,
   "metadata": {
    "scrolled": false
   },
   "outputs": [
    {
     "name": "stdout",
     "output_type": "stream",
     "text": [
      "<class 'pandas.core.frame.DataFrame'>\n",
      "Int64Index: 4345 entries, 16699 to 37971\n",
      "Data columns (total 13 columns):\n",
      "id          4345 non-null int64\n",
      "year        4345 non-null int64\n",
      "mode        4345 non-null float64\n",
      "language    4345 non-null float64\n",
      "dhouse      4345 non-null float64\n",
      "dlivedsf    4345 non-null float64\n",
      "movesf      4345 non-null float64\n",
      "dincome     4345 non-null float64\n",
      "dage        4345 non-null float64\n",
      "gender      4345 non-null float64\n",
      "dethnic     4345 non-null float64\n",
      "deduc       4345 non-null float64\n",
      "zipcode     2166 non-null float64\n",
      "dtypes: float64(11), int64(2)\n",
      "memory usage: 475.2 KB\n"
     ]
    }
   ],
   "source": [
    "survey_df_clean.info()"
   ]
  },
  {
   "cell_type": "code",
   "execution_count": 14,
   "metadata": {},
   "outputs": [],
   "source": [
    "survey_df_clean_null = survey_df_clean[survey_df_clean.isnull().any(axis=1)]\n",
    "survey_df_clean_value = survey_df_clean.copy()\n",
    "survey_df_clean_value = survey_df_clean_value.dropna()\n"
   ]
  },
  {
   "cell_type": "code",
   "execution_count": 15,
   "metadata": {},
   "outputs": [
    {
     "data": {
      "text/plain": [
       "array([2015])"
      ]
     },
     "execution_count": 15,
     "metadata": {},
     "output_type": "execute_result"
    }
   ],
   "source": [
    "survey_df_clean_null['year'].unique()"
   ]
  },
  {
   "cell_type": "code",
   "execution_count": 16,
   "metadata": {},
   "outputs": [
    {
     "data": {
      "text/plain": [
       "array([2017])"
      ]
     },
     "execution_count": 16,
     "metadata": {},
     "output_type": "execute_result"
    }
   ],
   "source": [
    "survey_df_clean_value['year'].unique()"
   ]
  },
  {
   "cell_type": "code",
   "execution_count": 17,
   "metadata": {},
   "outputs": [
    {
     "data": {
      "text/plain": [
       "31"
      ]
     },
     "execution_count": 17,
     "metadata": {},
     "output_type": "execute_result"
    }
   ],
   "source": [
    "survey_df_clean_value['zipcode'].nunique()"
   ]
  },
  {
   "cell_type": "code",
   "execution_count": 18,
   "metadata": {
    "scrolled": true
   },
   "outputs": [
    {
     "name": "stdout",
     "output_type": "stream",
     "text": [
      "<class 'pandas.core.frame.DataFrame'>\n",
      "Int64Index: 2166 entries, 16699 to 37971\n",
      "Data columns (total 13 columns):\n",
      "id          2166 non-null int64\n",
      "year        2166 non-null int64\n",
      "mode        2166 non-null float64\n",
      "language    2166 non-null float64\n",
      "dhouse      2166 non-null float64\n",
      "dlivedsf    2166 non-null float64\n",
      "movesf      2166 non-null float64\n",
      "dincome     2166 non-null float64\n",
      "dage        2166 non-null float64\n",
      "gender      2166 non-null float64\n",
      "dethnic     2166 non-null float64\n",
      "deduc       2166 non-null float64\n",
      "zipcode     2166 non-null float64\n",
      "dtypes: float64(11), int64(2)\n",
      "memory usage: 236.9 KB\n"
     ]
    }
   ],
   "source": [
    "# I can only use 2017 survey data\n",
    "\n",
    "survey_df_clean_value.info()"
   ]
  },
  {
   "cell_type": "code",
   "execution_count": 21,
   "metadata": {},
   "outputs": [],
   "source": [
    "survey_mode_df = survey_df_clean_value['mode'].map(mode_dict)"
   ]
  },
  {
   "cell_type": "code",
   "execution_count": null,
   "metadata": {},
   "outputs": [],
   "source": []
  },
  {
   "cell_type": "code",
   "execution_count": null,
   "metadata": {},
   "outputs": [],
   "source": []
  },
  {
   "cell_type": "code",
   "execution_count": null,
   "metadata": {},
   "outputs": [],
   "source": []
  },
  {
   "cell_type": "code",
   "execution_count": null,
   "metadata": {},
   "outputs": [],
   "source": []
  },
  {
   "cell_type": "code",
   "execution_count": null,
   "metadata": {},
   "outputs": [],
   "source": []
  },
  {
   "cell_type": "code",
   "execution_count": null,
   "metadata": {},
   "outputs": [],
   "source": []
  },
  {
   "cell_type": "code",
   "execution_count": null,
   "metadata": {},
   "outputs": [],
   "source": []
  },
  {
   "cell_type": "code",
   "execution_count": null,
   "metadata": {},
   "outputs": [],
   "source": [
    "#survey_df_clean_value.to_csv(path_or_buf='/Users/lizchan/ds_foundations/final_project/survey_clean_2017.csv')"
   ]
  },
  {
   "cell_type": "code",
   "execution_count": null,
   "metadata": {},
   "outputs": [],
   "source": []
  }
 ],
 "metadata": {
  "kernelspec": {
   "display_name": "Python 3",
   "language": "python",
   "name": "python3"
  },
  "language_info": {
   "codemirror_mode": {
    "name": "ipython",
    "version": 3
   },
   "file_extension": ".py",
   "mimetype": "text/x-python",
   "name": "python",
   "nbconvert_exporter": "python",
   "pygments_lexer": "ipython3",
   "version": "3.6.5"
  }
 },
 "nbformat": 4,
 "nbformat_minor": 2
}
