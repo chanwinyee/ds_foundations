{
 "cells": [
  {
   "cell_type": "code",
   "execution_count": 2,
   "metadata": {},
   "outputs": [
    {
     "name": "stdout",
     "output_type": "stream",
     "text": [
      "Requirement already satisfied: requests in /anaconda3/lib/python3.6/site-packages (2.19.1)\n",
      "Requirement already satisfied: urllib3<1.24,>=1.21.1 in /anaconda3/lib/python3.6/site-packages (from requests) (1.22)\n",
      "Requirement already satisfied: certifi>=2017.4.17 in /anaconda3/lib/python3.6/site-packages (from requests) (2018.4.16)\n",
      "Requirement already satisfied: idna<2.8,>=2.5 in /anaconda3/lib/python3.6/site-packages (from requests) (2.6)\n",
      "Requirement already satisfied: chardet<3.1.0,>=3.0.2 in /anaconda3/lib/python3.6/site-packages (from requests) (3.0.4)\n",
      "Requirement already satisfied: requests in /anaconda3/lib/python3.6/site-packages (2.19.1)\n",
      "Requirement already satisfied: urllib3<1.24,>=1.21.1 in /anaconda3/lib/python3.6/site-packages (from requests) (1.22)\n",
      "Requirement already satisfied: idna<2.8,>=2.5 in /anaconda3/lib/python3.6/site-packages (from requests) (2.6)\n",
      "Requirement already satisfied: chardet<3.1.0,>=3.0.2 in /anaconda3/lib/python3.6/site-packages (from requests) (3.0.4)\n",
      "Requirement already satisfied: certifi>=2017.4.17 in /anaconda3/lib/python3.6/site-packages (from requests) (2018.4.16)\n"
     ]
    }
   ],
   "source": [
    "!pip install requests\n",
    "!pip3 install requests"
   ]
  },
  {
   "cell_type": "code",
   "execution_count": 16,
   "metadata": {},
   "outputs": [],
   "source": [
    "import requests\n",
    "dat = []\n",
    "for i in range(3):\n",
    "    endpoint = 'https://bikeindex.org:443/api/v3/search'\n",
    "    params = {'page:':str(i+1),\n",
    "              'per_page':100,\n",
    "              'location':'IP',\n",
    "              'distance':25,\n",
    "              'stolenness':'stolen'}\n",
    "    res=requests.get(url=endpoint,params=params)\n",
    "    res.raise_for_status()\n",
    "    if res.status_code == 200:\n",
    "        #ADD TO MY DATA\n",
    "        dat.extend(res.json()['bikes'])\n",
    "#elif res.status_code == 404:\n",
    "    #break"
   ]
  },
  {
   "cell_type": "code",
   "execution_count": 21,
   "metadata": {},
   "outputs": [
    {
     "data": {
      "text/plain": [
       "445950    3\n",
       "446157    3\n",
       "445098    3\n",
       "444056    3\n",
       "446636    3\n",
       "444077    3\n",
       "444095    3\n",
       "414914    3\n",
       "444099    3\n",
       "446662    3\n",
       "440009    3\n",
       "446666    3\n",
       "446161    3\n",
       "445949    3\n",
       "444116    3\n",
       "446688    3\n",
       "446689    3\n",
       "445675    3\n",
       "446705    3\n",
       "444147    3\n",
       "386296    3\n",
       "444157    3\n",
       "444162    3\n",
       "446730    3\n",
       "444570    3\n",
       "446105    3\n",
       "445080    3\n",
       "446602    3\n",
       "445957    3\n",
       "444423    3\n",
       "         ..\n",
       "446959    3\n",
       "444917    3\n",
       "444918    3\n",
       "444410    3\n",
       "446361    3\n",
       "445322    3\n",
       "443691    3\n",
       "445833    3\n",
       "446764    3\n",
       "445742    3\n",
       "446767    3\n",
       "446768    3\n",
       "445746    3\n",
       "445244    3\n",
       "446786    3\n",
       "445411    3\n",
       "69451     3\n",
       "445772    3\n",
       "445261    3\n",
       "445278    3\n",
       "445792    3\n",
       "445283    3\n",
       "445796    3\n",
       "446311    3\n",
       "444783    3\n",
       "444139    3\n",
       "445299    3\n",
       "446853    3\n",
       "445831    3\n",
       "444928    3\n",
       "Name: id, Length: 100, dtype: int64"
      ]
     },
     "execution_count": 21,
     "metadata": {},
     "output_type": "execute_result"
    }
   ],
   "source": [
    "import pandas as pd\n",
    "pd.DataFrame(dat)['id'].value_counts()"
   ]
  },
  {
   "cell_type": "code",
   "execution_count": 8,
   "metadata": {},
   "outputs": [],
   "source": [
    "the_json = res.json()"
   ]
  },
  {
   "cell_type": "code",
   "execution_count": 10,
   "metadata": {
    "scrolled": false
   },
   "outputs": [
    {
     "data": {
      "text/plain": [
       "dict_keys(['bikes'])"
      ]
     },
     "execution_count": 10,
     "metadata": {},
     "output_type": "execute_result"
    }
   ],
   "source": [
    "the_json.keys()"
   ]
  },
  {
   "cell_type": "code",
   "execution_count": 12,
   "metadata": {},
   "outputs": [
    {
     "data": {
      "text/plain": [
       "100"
      ]
     },
     "execution_count": 12,
     "metadata": {},
     "output_type": "execute_result"
    }
   ],
   "source": [
    "the_json['bikes'].__len__()"
   ]
  },
  {
   "cell_type": "code",
   "execution_count": null,
   "metadata": {},
   "outputs": [],
   "source": []
  },
  {
   "cell_type": "code",
   "execution_count": 14,
   "metadata": {},
   "outputs": [
    {
     "data": {
      "text/plain": [
       "{'id': 378905,\n",
       " 'title': '2015 Specialized Medium',\n",
       " 'serial': 'absent',\n",
       " 'manufacturer_name': 'Specialized',\n",
       " 'frame_model': 'Medium',\n",
       " 'year': 2015,\n",
       " 'frame_colors': ['Silver, gray or bare metal'],\n",
       " 'thumb': None,\n",
       " 'large_img': None,\n",
       " 'is_stock_img': False,\n",
       " 'stolen': True,\n",
       " 'stolen_location': 'Seattle,WA,98115',\n",
       " 'date_stolen': 1512453600}"
      ]
     },
     "execution_count": 14,
     "metadata": {},
     "output_type": "execute_result"
    }
   ],
   "source": [
    "the_json['bikes'][0]"
   ]
  },
  {
   "cell_type": "code",
   "execution_count": null,
   "metadata": {},
   "outputs": [],
   "source": []
  }
 ],
 "metadata": {
  "kernelspec": {
   "display_name": "Python 3",
   "language": "python",
   "name": "python3"
  },
  "language_info": {
   "codemirror_mode": {
    "name": "ipython",
    "version": 3
   },
   "file_extension": ".py",
   "mimetype": "text/x-python",
   "name": "python",
   "nbconvert_exporter": "python",
   "pygments_lexer": "ipython3",
   "version": "3.6.5"
  }
 },
 "nbformat": 4,
 "nbformat_minor": 2
}
