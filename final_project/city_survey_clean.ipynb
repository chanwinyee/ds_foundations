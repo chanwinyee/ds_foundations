{
 "cells": [
  {
   "cell_type": "code",
   "execution_count": 1,
   "metadata": {},
   "outputs": [],
   "source": [
    "# import all the libraries\n",
    "\n",
    "# Data exploration and analysis tools\n",
    "import pandas as pd\n",
    "import seaborn as sns\n",
    "import numpy as np\n",
    "from ast import literal_eval\n",
    "import re as re"
   ]
  },
  {
   "cell_type": "code",
   "execution_count": 2,
   "metadata": {},
   "outputs": [],
   "source": [
    "survey_data = pd.read_csv('San_Francisco_City_Survey_Data_1996-2017.csv')"
   ]
  },
  {
   "cell_type": "code",
   "execution_count": 3,
   "metadata": {},
   "outputs": [],
   "source": [
    "survey_df = pd.DataFrame(data=survey_data)"
   ]
  },
  {
   "cell_type": "code",
   "execution_count": 4,
   "metadata": {
    "scrolled": true
   },
   "outputs": [
    {
     "name": "stdout",
     "output_type": "stream",
     "text": [
      "92\n"
     ]
    }
   ],
   "source": [
    "total_columns = survey_df.columns\n",
    "print(len(total_columns))"
   ]
  },
  {
   "cell_type": "code",
   "execution_count": 5,
   "metadata": {},
   "outputs": [
    {
     "data": {
      "text/plain": [
       "92"
      ]
     },
     "execution_count": 5,
     "metadata": {},
     "output_type": "execute_result"
    }
   ],
   "source": [
    "survey_df.columns.nunique()"
   ]
  },
  {
   "cell_type": "code",
   "execution_count": 6,
   "metadata": {},
   "outputs": [
    {
     "name": "stdout",
     "output_type": "stream",
     "text": [
      "4\n",
      "22\n",
      "26\n",
      "['id', 'year', 'mode', 'language', 'dlivedsf', 'primlang_1', 'primlang_2', 'primlang_3', 'primlang_4', 'dage', 'dethnic', 'mixed_1', 'mixed_2', 'mixed_3', 'mixed_4', 'deduc', 'dincome', 'dhouse', 'ownrenhm', 'gender', 'dsexornt', 'zipcode', 'district', 'movesf', 'disablephys', 'disablement']\n"
     ]
    }
   ],
   "source": [
    "survey_info = ['id','year','mode','language']\n",
    "demographics = ['dlivedsf','primlang_1','primlang_2','primlang_3','primlang_4','dage','dethnic','mixed_1','mixed_2','mixed_3','mixed_4','deduc','dincome','dhouse','ownrenhm','gender','dsexornt','zipcode','district','movesf','disablephys','disablement']\n",
    "active_columns = survey_info + demographics\n",
    "\n",
    "print(len(survey_info))\n",
    "print(len(demographics))\n",
    "print(len(active_columns))\n",
    "\n",
    "print(active_columns)"
   ]
  },
  {
   "cell_type": "code",
   "execution_count": 10,
   "metadata": {},
   "outputs": [],
   "source": [
    "test = []\n",
    "\n",
    "for t in total_columns:\n",
    "    if t not in active_columns:\n",
    "        test.append(t)\n"
   ]
  },
  {
   "cell_type": "code",
   "execution_count": 11,
   "metadata": {},
   "outputs": [
    {
     "name": "stdout",
     "output_type": "stream",
     "text": [
      "['finweigh', 'general', 'stpvnbrd', 'swcndnbrd', 'cityligh', 'wtrswr', 'water', 'sewer', 'swclnbrd', 'stclnbrd', 'stswc', 'recparsy', 'parkvis', 'athfield', 'recpart', 'parkfa', 'recpract', 'parkgr', 'parklp', 'parkcl', 'libsystm', 'libmai', 'libbra', 'libonlin', 'libbo', 'onlibsvc', 'netlibsvc', 'libsta', 'conmalib', 'connelib', 'trspwlk', 'trsppub', 'trspbike', 'trsptaxi', 'trspdaln', 'trspcpl', 'trspptns', 'trspuber', 'munovr', 'mun12mth', 'muntim', 'muncle', 'munsaf', 'munmgmtcro', 'muncou', 'safdnb', 'safnnb', 'hrd311', 'cont311', 'use311sv', 'info311', 'infowebm', 'svc311', 'svcwebmo', 'phone311', 'web311', 'kids', 'k0to5', 'k6to18', 'kprisch', 'kpubsch', 'knosch', 'kqschl', 'issue1', 'issue2', 'issue3']\n"
     ]
    }
   ],
   "source": [
    "print(test)"
   ]
  },
  {
   "cell_type": "code",
   "execution_count": 13,
   "metadata": {},
   "outputs": [],
   "source": [
    "survey_df_clean = survey_df.copy()\n",
    "survey_df_clean = survey_df_clean.drop(columns=test)"
   ]
  },
  {
   "cell_type": "code",
   "execution_count": 15,
   "metadata": {},
   "outputs": [
    {
     "name": "stdout",
     "output_type": "stream",
     "text": [
      "<class 'pandas.core.frame.DataFrame'>\n",
      "RangeIndex: 37972 entries, 0 to 37971\n",
      "Data columns (total 26 columns):\n",
      "id             37972 non-null int64\n",
      "year           37972 non-null int64\n",
      "mode           20080 non-null float64\n",
      "language       19034 non-null float64\n",
      "dhouse         36842 non-null float64\n",
      "ownrenhm       11817 non-null float64\n",
      "dlivedsf       37459 non-null float64\n",
      "movesf         21770 non-null float64\n",
      "dincome        23596 non-null float64\n",
      "dage           37124 non-null float64\n",
      "gender         37072 non-null float64\n",
      "dsexornt       34467 non-null float64\n",
      "dethnic        36534 non-null float64\n",
      "primlang_1     4345 non-null float64\n",
      "primlang_2     237 non-null float64\n",
      "primlang_3     15 non-null float64\n",
      "primlang_4     2 non-null float64\n",
      "deduc          37140 non-null float64\n",
      "disablephys    4345 non-null float64\n",
      "disablement    4345 non-null float64\n",
      "zipcode        35451 non-null float64\n",
      "district       28413 non-null float64\n",
      "mixed_1        251 non-null float64\n",
      "mixed_2        247 non-null float64\n",
      "mixed_3        33 non-null float64\n",
      "mixed_4        2 non-null float64\n",
      "dtypes: float64(24), int64(2)\n",
      "memory usage: 7.5 MB\n"
     ]
    }
   ],
   "source": [
    "survey_df_clean.info()"
   ]
  },
  {
   "cell_type": "code",
   "execution_count": null,
   "metadata": {},
   "outputs": [],
   "source": []
  }
 ],
 "metadata": {
  "kernelspec": {
   "display_name": "Python 3",
   "language": "python",
   "name": "python3"
  },
  "language_info": {
   "codemirror_mode": {
    "name": "ipython",
    "version": 3
   },
   "file_extension": ".py",
   "mimetype": "text/x-python",
   "name": "python",
   "nbconvert_exporter": "python",
   "pygments_lexer": "ipython3",
   "version": "3.6.5"
  }
 },
 "nbformat": 4,
 "nbformat_minor": 2
}
