{
 "cells": [
  {
   "cell_type": "markdown",
   "metadata": {},
   "source": [
    "# Project 1: Python Coding Exercises\n",
    "\n",
    "_Authors: Joseph Nelson (DC) _\n",
    "\n",
    "---"
   ]
  },
  {
   "cell_type": "markdown",
   "metadata": {},
   "source": [
    "The following code challenges are drawn from common exercises used in technical interviews.\n",
    "\n",
    "Please note that there may be several ways to approach each challenge. If you get stuck, try mapping out your approach in pseudocode first. Finally, while solutions to problems like these may be found online, remember that if you copy/paste code that you can't explain, you'll be missing out on the point of the project. The only way to truly learn a new skill is through practice, trial, and error - we can only help you improve by understanding where you are having trouble."
   ]
  },
  {
   "cell_type": "markdown",
   "metadata": {},
   "source": [
    "### Challenge 1: Largest Palindrome\n",
    "A palindromic number reads the same both ways. For example, 1234321 is a palindrome. The largest palindrome made from the product of two two-digit numbers is 9009 = 91 × 99. Find the largest palindrome made from the product of two three-digit numbers. Afterward, write a brief explanation walking through your code's logic in markdown."
   ]
  },
  {
   "cell_type": "code",
   "execution_count": 46,
   "metadata": {},
   "outputs": [
    {
     "data": {
      "text/plain": [
       "906609"
      ]
     },
     "execution_count": 46,
     "metadata": {},
     "output_type": "execute_result"
    }
   ],
   "source": [
    "# the product of two three-digit numbers will have 6 digits, so a Palindrome will not have an odd one in the middle\n",
    "\n",
    "def isPalindrome(test):\n",
    "#    print (test[0:3]) \n",
    "#    print (test[::-1][0:3])\n",
    "    return test[0:3] == test[::-1][0:3]\n",
    "\n",
    "# print isPalindrome('123321')\n",
    "\n",
    "test=set()\n",
    "palindromes = []\n",
    "\n",
    "for x in range(100,1000):\n",
    "    for y in range (100,1000):\n",
    "        test.add(int(x)*int(y))\n",
    "\n",
    "for z in test:\n",
    "    if isPalindrome(str(z)):\n",
    "        palindromes.append(z)\n",
    "\n",
    "max(palindromes)"
   ]
  },
  {
   "cell_type": "markdown",
   "metadata": {},
   "source": [
    "The first thing I wanted to do was to define a test to make sure that whatever I create satisfies the end goal - identifying a number that is a palindrome. I created the isPalindrome function to test my inputs. I figured, once I could test a list of Palindromes, I could identify the max and that would be the answer. I also knew that the product of two three-digit numbers is going to be 6 digits - so that set the stage for my function.\n",
    "\n",
    "I have two print functions to test my isPalindrome() function just to make sure it was correct.\n",
    "\n",
    "I then wanted to create one set and one list. The set would be all the products of two 3 digit numbers. I wanted a set to remove any duplicate answers. The list would be all the palindromes it produced. \n",
    "\n",
    "I filled the the test set with all the unique products of x and y where x and y are 3 digits (less than 1000, greater than or equal to 100) so I said X and y within a range. I then added the products to the set.\n",
    "\n",
    "I also wanted to create a list of palindromes, so I wrote a for statement that takes each element of the test set and runs it through my inPalindrome function. Because the inPalindrome function only accepts strings, I converted each element of the test set to a string and passed it through. If it passed the test, I had the number added to the palindromes list.\n",
    "\n",
    "I took the max of that list and produced my final answer."
   ]
  },
  {
   "cell_type": "markdown",
   "metadata": {},
   "source": [
    "\n",
    "### Challenge 2: Summation of Primes\n",
    "The sum of the primes below 10 is 2 + 3 + 5 + 7 = 17. Find the sum of all the primes below 2,000. Afterward, write a brief explanation walking through your code's logic in markdown."
   ]
  },
  {
   "cell_type": "code",
   "execution_count": 2,
   "metadata": {},
   "outputs": [
    {
     "data": {
      "text/plain": [
       "277050"
      ]
     },
     "execution_count": 2,
     "metadata": {},
     "output_type": "execute_result"
    }
   ],
   "source": [
    "def isprime(n):\n",
    "    factors = []\n",
    "    for d in range(2,n):\n",
    "        if n%d == 0:\n",
    "            factors.append(d)\n",
    "    return len(factors) == 0\n",
    "\n",
    "primes = []\n",
    "\n",
    "for n in range (2,2001):\n",
    "    if isprime(n):\n",
    "        primes.append(n)\n",
    "\n",
    "sum(primes)"
   ]
  },
  {
   "cell_type": "markdown",
   "metadata": {},
   "source": [
    "### Challenge 3: Multiples of 3 and 5\n",
    "If we list all of the natural numbers below 10 that are multiples of 3 or 5, we get 3, 5, 6, and 9. The sum of these multiples is 23. Find the sum of all the multiples of 3 and 5 below 1,000. Afterward, write a brief explanation walking through your code's logic in markdown."
   ]
  },
  {
   "cell_type": "code",
   "execution_count": 4,
   "metadata": {},
   "outputs": [
    {
     "data": {
      "text/plain": [
       "234168"
      ]
     },
     "execution_count": 4,
     "metadata": {},
     "output_type": "execute_result"
    }
   ],
   "source": [
    "def divisible_by_three_or_five(n):\n",
    "    if (n%3 == 0 or  n%5 == 0):\n",
    "        return True\n",
    "\n",
    "total = 0\n",
    "\n",
    "for n in range(1,1001):\n",
    "    if divisible_by_three_or_five(n):\n",
    "        total = total + n\n",
    "\n",
    "total"
   ]
  },
  {
   "cell_type": "markdown",
   "metadata": {},
   "source": [
    "### Challenge 4: String Compressor\n",
    "Implement a method to perform basic string compression using the counts of repeated characters. (This is called run-length encoding.) For example, the string \"aabcccccaaa\" would become a2b1c5a3. If the “compressed” string would not become smaller than the original string, your method should return the original string. You can assume the string has only uppercase and lowercase letters (a–z). Specify whether your solution is case sensitive or case insensitive and what you would need to change to make it the other. Afterward, write a brief explanation walking through your code's logic in markdown."
   ]
  },
  {
   "cell_type": "code",
   "execution_count": null,
   "metadata": {
    "collapsed": true
   },
   "outputs": [],
   "source": []
  },
  {
   "cell_type": "markdown",
   "metadata": {},
   "source": [
    "### *BONUS* Challenge: FizzBuzz\n",
    "Write a program that prints all of the numbers from 1 to 100. For multiples of 3, instead of the number, print \"Fizz;\" for multiples of 5, print \"Buzz.\" For numbers that are multiples of both 3 and 5, print \"FizzBuzz.\" Afterward, write a brief explanation walking through your code's logic in markdown."
   ]
  },
  {
   "cell_type": "code",
   "execution_count": null,
   "metadata": {
    "collapsed": true
   },
   "outputs": [],
   "source": []
  }
 ],
 "metadata": {
  "anaconda-cloud": {},
  "kernelspec": {
   "display_name": "Python 3",
   "language": "python",
   "name": "python3"
  },
  "language_info": {
   "codemirror_mode": {
    "name": "ipython",
    "version": 3
   },
   "file_extension": ".py",
   "mimetype": "text/x-python",
   "name": "python",
   "nbconvert_exporter": "python",
   "pygments_lexer": "ipython3",
   "version": "3.6.5"
  }
 },
 "nbformat": 4,
 "nbformat_minor": 2
}
