{
 "cells": [
  {
   "cell_type": "code",
   "execution_count": 1,
   "metadata": {},
   "outputs": [],
   "source": [
    "import re as re\n",
    "import csv as csv\n",
    "import pandas as pd\n",
    "import numpy as np\n",
    "import seaborn as sns\n",
    "import matplotlib.pyplot as plt\n",
    "%matplotlib inline"
   ]
  },
  {
   "cell_type": "code",
   "execution_count": 2,
   "metadata": {
    "scrolled": true
   },
   "outputs": [
    {
     "name": "stdout",
     "output_type": "stream",
     "text": [
      "['', 'date_stolen', 'frame_colors', 'frame_model', 'id', 'is_stock_img', 'large_img', 'manufacturer_name', 'serial', 'stolen', 'stolen_location', 'thumb', 'title', 'year']\n",
      "['0', '1512453600.0', \"['Silver, gray or bare metal']\", 'Medium', '378905', 'False', '', 'Specialized', 'absent', 'True', 'Seattle,WA,98115', '', '2015 Specialized Medium', '2015.0']\n",
      "['1', '1521441107.0', \"['Purple']\", '', '386296', 'False', '', 'Unknown', 'absent', 'True', 'Seattle,WA,98105', '', '2018 Unknown', '2018.0']\n",
      "['2', '1253318542.0', \"['Blue']\", 'XR-75', '414914', 'False', 'https://files.bikeindex.org/uploads/Pu/134571/large_bike.jpeg', 'Mongoose', 'absent', 'True', 'Seattle,WA,98101', 'https://files.bikeindex.org/uploads/Pu/134571/small_bike.jpeg', 'Mongoose XR-75', '']\n",
      "['3', '1540098232.0', \"['Black']\", '', '450375', 'False', '', 'Specialized', 'WSBC602060403M', 'True', '', '', '2017 Specialized', '2017.0']\n",
      "['4', '1540093193.0', \"['Black', 'White']\", 'Speedster S50', '450268', 'False', '', 'SCOTT', 'B078978', 'True', 'Boulder,CO,80303', '', '2012 SCOTT Speedster S50', '2012.0']\n",
      "['5', '1540062000.0', \"['Black', 'White', 'Blue']\", 'Lexa SLX', '450011', 'False', 'https://files.bikeindex.org/uploads/Pu/138890/large_Lexa.JPG', 'Trek', 'SWTU185C0288F', 'True', 'Portland,OR,97206', 'https://files.bikeindex.org/uploads/Pu/138890/small_Lexa.JPG', '2011 Trek Lexa SLX', '2011.0']\n",
      "['6', '1540062000.0', \"['White']\", 'Catalyst 2', '450300', 'False', 'https://files.bikeindex.org/uploads/Pu/138954/large_5A1D60E6-C7E1-4F7F-AA04-AC41BB7C2C75.jpeg', 'Cannondale', 'MB51855', 'True', 'Bend,OR,97701', 'https://files.bikeindex.org/uploads/Pu/138954/small_5A1D60E6-C7E1-4F7F-AA04-AC41BB7C2C75.jpeg', '2017 Cannondale Catalyst 2', '2017.0']\n",
      "['7', '1540062000.0', \"['Black', 'White']\", 'Tarmac', '450024', 'False', 'https://files.bikeindex.org/uploads/Pu/138900/large_Tarmac.jpg', 'Specialized', 'absent', 'True', 'Portland,OR,97206', 'https://files.bikeindex.org/uploads/Pu/138900/small_Tarmac.jpg', '2007 Specialized Tarmac', '2007.0']\n"
     ]
    }
   ],
   "source": [
    "with open('bike_index_api2.csv','r',newline='') as f:\n",
    "    reader = csv.reader(f)\n",
    "#     for row in reader:\n",
    "#         print(row[10])\n",
    "    for i in range(9):\n",
    "        print(next(reader))"
   ]
  },
  {
   "cell_type": "code",
   "execution_count": 3,
   "metadata": {},
   "outputs": [
    {
     "name": "stdout",
     "output_type": "stream",
     "text": [
      "['stolen_location', 'thumb']\n",
      "['Seattle,WA,98115', '']\n",
      "['Seattle,WA,98105', '']\n",
      "['Seattle,WA,98101', 'https://files.bikeindex.org/uploads/Pu/134571/small_bike.jpeg']\n",
      "['', '']\n",
      "['Boulder,CO,80303', '']\n",
      "['Portland,OR,97206', 'https://files.bikeindex.org/uploads/Pu/138890/small_Lexa.JPG']\n",
      "['Bend,OR,97701', 'https://files.bikeindex.org/uploads/Pu/138954/small_5A1D60E6-C7E1-4F7F-AA04-AC41BB7C2C75.jpeg']\n",
      "['Portland,OR,97206', 'https://files.bikeindex.org/uploads/Pu/138900/small_Tarmac.jpg']\n"
     ]
    }
   ],
   "source": [
    "with open('bike_index_api2.csv','r',newline='') as f:\n",
    "    reader = csv.reader(f)\n",
    "    \n",
    "    ten_rows = []\n",
    "    \n",
    "    for i in range(9):\n",
    "        ten_rows.append(next(reader))\n",
    "    for row in ten_rows:\n",
    "        print(row[10:12])\n"
   ]
  },
  {
   "cell_type": "code",
   "execution_count": 4,
   "metadata": {
    "scrolled": true
   },
   "outputs": [
    {
     "name": "stdout",
     "output_type": "stream",
     "text": [
      "stolen_location\n",
      "Seattle,WA,98115\n",
      "Seattle,WA,98105\n",
      "Seattle,WA,98101\n",
      "\n",
      "Boulder,CO,80303\n",
      "Portland,OR,97206\n",
      "Bend,OR,97701\n",
      "Portland,OR,97206\n"
     ]
    }
   ],
   "source": [
    "with open ('test.csv','w',newline='') as new_file:\n",
    "    with open('bike_index_api2.csv','r',newline='') as f:\n",
    "        reader = csv.reader(f)\n",
    "        writer = csv.writer(new_file)\n",
    "        ten_rows = []\n",
    "\n",
    "        for i in range(9):\n",
    "            ten_rows.append(next(reader))\n",
    "        for row in ten_rows:\n",
    "#             writer.writerow(row[10:12])\n",
    "            print(row[10])"
   ]
  },
  {
   "cell_type": "code",
   "execution_count": null,
   "metadata": {},
   "outputs": [],
   "source": []
  }
 ],
 "metadata": {
  "kernelspec": {
   "display_name": "Python 3",
   "language": "python",
   "name": "python3"
  },
  "language_info": {
   "codemirror_mode": {
    "name": "ipython",
    "version": 3
   },
   "file_extension": ".py",
   "mimetype": "text/x-python",
   "name": "python",
   "nbconvert_exporter": "python",
   "pygments_lexer": "ipython3",
   "version": "3.6.5"
  }
 },
 "nbformat": 4,
 "nbformat_minor": 2
}
