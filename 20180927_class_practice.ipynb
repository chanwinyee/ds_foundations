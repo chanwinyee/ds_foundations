{
 "cells": [
  {
   "cell_type": "code",
   "execution_count": 4,
   "metadata": {
    "scrolled": true
   },
   "outputs": [
    {
     "name": "stdout",
     "output_type": "stream",
     "text": [
      "tickets=  [('SFO', 'LAX'), ('ORD', 'JFK'), ('JFK', 'SFO')]\n"
     ]
    }
   ],
   "source": [
    "#tickets=[('SFO','LAX'),('ORD','JFK'),('JFK','SFO')]\n",
    "#print('tickets= ',tickets)\n",
    "\n",
    "\n"
   ]
  },
  {
   "cell_type": "code",
   "execution_count": null,
   "metadata": {},
   "outputs": [],
   "source": [
    "lst=[('A','B'),('C','D'),('B','C')]\n",
    "d={}\n",
    "d_rev={}\n",
    "\n",
    "for first, second in lst: #decompose the tuple\n",
    "    d[first] = second\n",
    "    d_rev[second] = first\n",
    "\n",
    "start = None\n",
    "for first, _ in lst: #_ means ignore\n",
    "    if first not in d_rev:\n",
    "        start = first\n",
    "        \n",
    "cur = first\n",
    "while cur is not None:\n",
    "    print(cur)\n",
    "    cur = d.get(cur,None) \n",
    "    \n",
    "#Extra credit: list out the actual tickets"
   ]
  }
 ],
 "metadata": {
  "kernelspec": {
   "display_name": "Python 3",
   "language": "python",
   "name": "python3"
  },
  "language_info": {
   "codemirror_mode": {
    "name": "ipython",
    "version": 3
   },
   "file_extension": ".py",
   "mimetype": "text/x-python",
   "name": "python",
   "nbconvert_exporter": "python",
   "pygments_lexer": "ipython3",
   "version": "3.6.5"
  }
 },
 "nbformat": 4,
 "nbformat_minor": 2
}
