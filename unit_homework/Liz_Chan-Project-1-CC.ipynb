{
 "cells": [
  {
   "cell_type": "markdown",
   "metadata": {},
   "source": [
    "# Project 1: Python Coding Exercises\n",
    "\n",
    "_Authors: Joseph Nelson (DC) _\n",
    "\n",
    "---"
   ]
  },
  {
   "cell_type": "markdown",
   "metadata": {},
   "source": [
    "The following code challenges are drawn from common exercises used in technical interviews.\n",
    "\n",
    "Please note that there may be several ways to approach each challenge. If you get stuck, try mapping out your approach in pseudocode first. Finally, while solutions to problems like these may be found online, remember that if you copy/paste code that you can't explain, you'll be missing out on the point of the project. The only way to truly learn a new skill is through practice, trial, and error - we can only help you improve by understanding where you are having trouble."
   ]
  },
  {
   "cell_type": "markdown",
   "metadata": {},
   "source": [
    "### Challenge 1: Largest Palindrome\n",
    "A palindromic number reads the same both ways. For example, 1234321 is a palindrome. The largest palindrome made from the product of two two-digit numbers is 9009 = 91 × 99. Find the largest palindrome made from the product of two three-digit numbers. Afterward, write a brief explanation walking through your code's logic in markdown."
   ]
  },
  {
   "cell_type": "code",
   "execution_count": 2,
   "metadata": {},
   "outputs": [
    {
     "data": {
      "text/plain": [
       "906609"
      ]
     },
     "execution_count": 2,
     "metadata": {},
     "output_type": "execute_result"
    }
   ],
   "source": [
    "# Create a test to tell me if my number is a Palindrome\n",
    "\n",
    "def isPalindrome(products):\n",
    "    \n",
    "# I know that the product of two three digit numbers is six digits\n",
    "# Since the product is six digits, the first three digits of the product should equal the reverse of the last three digits\n",
    "\n",
    "    return products[0:3] == products[::-1][0:3] \n",
    "\n",
    "\n",
    "# collect unique values of all products of 3 digit integers\n",
    "products=set()\n",
    "\n",
    "# collect palindromes in an array\n",
    "palindromes = []\n",
    "\n",
    "\n",
    "# x and y both need to be in the range of 3 digit integers\n",
    "for x in range(100,1000):\n",
    "    for y in range (100,1000):\n",
    "\n",
    "# add all these products to the set products\n",
    "        products.add(int(x)*int(y))\n",
    "\n",
    "# for each item in the set products, if the item is a palindrome, add to the list palindromes\n",
    "for product in products:\n",
    "    if isPalindrome(str(product)):\n",
    "        palindromes.append(product)\n",
    "\n",
    "# return the largest palindrome\n",
    "max(palindromes)"
   ]
  },
  {
   "cell_type": "markdown",
   "metadata": {},
   "source": [
    "Instructor said the Markdown explanation is optional. Please defer to comments inline with code."
   ]
  },
  {
   "cell_type": "markdown",
   "metadata": {},
   "source": [
    "\n",
    "### Challenge 2: Summation of Primes\n",
    "The sum of the primes below 10 is 2 + 3 + 5 + 7 = 17. Find the sum of all the primes below 2,000. Afterward, write a brief explanation walking through your code's logic in markdown."
   ]
  },
  {
   "cell_type": "code",
   "execution_count": 2,
   "metadata": {},
   "outputs": [
    {
     "data": {
      "text/plain": [
       "277050"
      ]
     },
     "execution_count": 2,
     "metadata": {},
     "output_type": "execute_result"
    }
   ],
   "source": [
    "# Create a test function that will tell me if a number is prime\n",
    "\n",
    "def isprime(n):\n",
    "    factors = []\n",
    "\n",
    "# a prime number is a number whose factors are one and itself, so I remove them from the range\n",
    "# I want to create a list of factors. If the length of the list of factors of a number is 0, that number is prime. \n",
    "    for d in range(2,n):\n",
    "        if n%d == 0:\n",
    "            factors.append(d)\n",
    "    return len(factors) == 0\n",
    "\n",
    "# I want to collect all the prime numbers in an array\n",
    "primes = []\n",
    "\n",
    "# for all numbers below 2000 (inclusive), I want to collect all the prime numbers in the array primes\n",
    "for n in range (2,2001):\n",
    "    if isprime(n):\n",
    "        primes.append(n)\n",
    "\n",
    "# to answer the question and get the sum of all primes below 2000, I sum the array primes.\n",
    "sum(primes)"
   ]
  },
  {
   "cell_type": "markdown",
   "metadata": {},
   "source": [
    "Instructor said the Markdown explanation is optional. Please defer to comments inline with code."
   ]
  },
  {
   "cell_type": "markdown",
   "metadata": {},
   "source": [
    "### Challenge 3: Multiples of 3 and 5\n",
    "If we list all of the natural numbers below 10 that are multiples of 3 or 5, we get 3, 5, 6, and 9. The sum of these multiples is 23. Find the sum of all the multiples of 3 and 5 below 1,000. Afterward, write a brief explanation walking through your code's logic in markdown."
   ]
  },
  {
   "cell_type": "code",
   "execution_count": 4,
   "metadata": {},
   "outputs": [
    {
     "data": {
      "text/plain": [
       "234168"
      ]
     },
     "execution_count": 4,
     "metadata": {},
     "output_type": "execute_result"
    }
   ],
   "source": [
    "# This is a test to see if a number is divisible by 3 or 5. They should return 0 as a remainder when divided by 3 or 5.\n",
    "\n",
    "def divisible_by_three_or_five(n):\n",
    "    if (n%3 == 0 or  n%5 == 0):\n",
    "        return True\n",
    "    \n",
    "# I then created a recursive for statement for all nubmers within the desired range (inclusive) and collected the sum in total\n",
    "    \n",
    "total = 0\n",
    "\n",
    "for n in range(1,1001):\n",
    "    if divisible_by_three_or_five(n):\n",
    "        total = total + n\n",
    "\n",
    "total"
   ]
  },
  {
   "cell_type": "markdown",
   "metadata": {},
   "source": [
    "Instructor said the Markdown explanation is optional. Please defer to comments inline with code."
   ]
  },
  {
   "cell_type": "markdown",
   "metadata": {},
   "source": [
    "### Challenge 4: String Compressor\n",
    "Implement a method to perform basic string compression using the counts of repeated characters. (This is called run-length encoding.) For example, the string \"aabcccccaaa\" would become a2b1c5a3. If the “compressed” string would not become smaller than the original string, your method should return the original string. You can assume the string has only uppercase and lowercase letters (a–z). Specify whether your solution is case sensitive or case insensitive and what you would need to change to make it the other. Afterward, write a brief explanation walking through your code's logic in markdown."
   ]
  },
  {
   "cell_type": "code",
   "execution_count": 1,
   "metadata": {},
   "outputs": [
    {
     "name": "stdout",
     "output_type": "stream",
     "text": [
      "a2b1B2b1c2C8c2d1a2\n",
      "a2b4c4d1a2\n"
     ]
    }
   ],
   "source": [
    "# Case sensitive\n",
    "\n",
    "# This test to see if the compressed string is in fact a compressed version of the string\n",
    "def is_compressed(compressed,original):\n",
    "    return len(compressed) < len(original)\n",
    "\n",
    "string = 'aabBBbccCCCCCCCCccdaa'\n",
    "\n",
    "# Creating an array of arrays to break apart the string.\n",
    "collected_arrays = [[string[0]]]\n",
    "\n",
    "# Looking at each letter of the string to push each series of unique letters into an array\n",
    "for n in range(1, len(string)):\n",
    "\n",
    "# Using indexing, if the current letter is the same as the previous letter, add the current letter to the last array in the collected_arrays and move on to the next letter\n",
    "    if string[n] == string[n-1]:\n",
    "        collected_arrays[-1].append(string[n])\n",
    "        # add to last array inside of collected_arrays\n",
    "\n",
    "# Using indexing, if the current letter is not the same as the previous letter, add the current letter to the last array in the collected_arrays and start a new array in the collected_arrays\n",
    "    elif string[n] != string[n-1]:\n",
    "        # add to last array in collected_arrays\n",
    "        # add another array to collected_arrays\n",
    "        collected_arrays.append([string[n]])\n",
    "\n",
    "# Creating an array of arrays of each letter and the count of that letter in the arrays in collected_arrays\n",
    "compressed_arrays = []\n",
    "\n",
    "# each array in the array is actually a list of grouped_letters\n",
    "for grouped_letters in collected_arrays:\n",
    "    \n",
    "# a letter is the first of the grouped_letters since all the letters were grouped in their likeness\n",
    "        letter = grouped_letters[0]\n",
    "    \n",
    "# I want to also collect the number of that letter in the grouped_letters list\n",
    "        count = len(grouped_letters)\n",
    "    \n",
    "# I want to collect this information\n",
    "        compressed_arrays.append(letter + str(count))\n",
    "    \n",
    "# I want to concatenate this information into a string which is the compressed_string\n",
    "compressed_string = (''.join(compressed_arrays))\n",
    "\n",
    "# This is the method described in the question prompt. \n",
    "if is_compressed(compressed_string, string):\n",
    "    print(compressed_string)\n",
    "else:\n",
    "    print(string)\n"
   ]
  },
  {
   "cell_type": "code",
   "execution_count": null,
   "metadata": {},
   "outputs": [],
   "source": [
    "# Case INsensitive\n",
    "def is_compressed(compressed,original):\n",
    "    return len(compressed) < len(original)\n",
    "\n",
    "string = 'aabBBbccccdaa'\n",
    "\n",
    "# I created a variable that will lowercase the string and had this pass through the compression method. \n",
    "# See documentation above for line-by-line explanation of code\n",
    "string_clean = string.lower() \n",
    "\n",
    "collected_arrays = [[string[0]]]\n",
    "\n",
    "for n in range(1, len(string_clean)):\n",
    "    if string_clean[n] == string_clean[n-1]:\n",
    "        collected_arrays[-1].append(string_clean[n])\n",
    "    elif string_clean[n] != string_clean[n-1]:\n",
    "        collected_arrays.append([string_clean[n]])\n",
    "\n",
    "compressed_arrays = []\n",
    "\n",
    "for grouped_letters in collected_arrays:\n",
    "        letter = grouped_letters[0]\n",
    "        count = len(grouped_letters)\n",
    "        compressed_arrays.append(letter + str(count))\n",
    "\n",
    "compressed_string = (''.join(compressed_arrays))\n",
    "\n",
    "if is_compressed(compressed_string, string):\n",
    "    print(compressed_string)\n",
    "else:\n",
    "    print(string)\n",
    "    \n",
    "# If I were to make a more flexible code, I would create a method that takes a string and allows the user to input the string and \"case_sensitive\"\n",
    "# I wasn't able to complete that extra part of this code, but the above logic would be incorporated into that more flexible code."
   ]
  },
  {
   "cell_type": "markdown",
   "metadata": {},
   "source": [
    "Instructor said the Markdown explanation is optional. Please defer to comments inline with code."
   ]
  },
  {
   "cell_type": "markdown",
   "metadata": {},
   "source": [
    "### *BONUS* Challenge: FizzBuzz\n",
    "Write a program that prints all of the numbers from 1 to 100. For multiples of 3, instead of the number, print \"Fizz;\" for multiples of 5, print \"Buzz.\" For numbers that are multiples of both 3 and 5, print \"FizzBuzz.\" Afterward, write a brief explanation walking through your code's logic in markdown."
   ]
  },
  {
   "cell_type": "code",
   "execution_count": null,
   "metadata": {
    "collapsed": true
   },
   "outputs": [],
   "source": [
    "# I want to test a single number to get a response of \"Fizz\" or \"FizzBuzz\", so defining a method is the way to go\n",
    "def fizzbuzz_operator(x):\n",
    "    \n",
    "# First, I want to test if the number is divisible by 3 and 5 because these occur less often than numbers that are divisible by 3 OR 5\n",
    "    if x%3 == 0 and x%5 == 0:\n",
    "        print('Fizzbuzz')\n",
    "\n",
    "# Second, I take all the numbers who did not pass the first if statement through to see if it satisfies on of the requirements\n",
    "    elif x%3 == 0 or x%5 == 0:\n",
    "        print('Fizz')\n",
    "\n",
    "# If the number does not satisfy either if statement, I don't care about it\n",
    "    else:\n",
    "        pass"
   ]
  },
  {
   "cell_type": "markdown",
   "metadata": {},
   "source": [
    "Instructor said the Markdown explanation is optional. Please defer to comments inline with code."
   ]
  }
 ],
 "metadata": {
  "anaconda-cloud": {},
  "kernelspec": {
   "display_name": "Python 3",
   "language": "python",
   "name": "python3"
  },
  "language_info": {
   "codemirror_mode": {
    "name": "ipython",
    "version": 3
   },
   "file_extension": ".py",
   "mimetype": "text/x-python",
   "name": "python",
   "nbconvert_exporter": "python",
   "pygments_lexer": "ipython3",
   "version": "3.6.5"
  }
 },
 "nbformat": 4,
 "nbformat_minor": 2
}
