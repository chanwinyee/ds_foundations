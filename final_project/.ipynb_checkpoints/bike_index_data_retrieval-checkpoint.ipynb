{
 "cells": [
  {
   "cell_type": "code",
   "execution_count": 1,
   "metadata": {
    "scrolled": true
   },
   "outputs": [
    {
     "name": "stdout",
     "output_type": "stream",
     "text": [
      "Requirement already satisfied: requests in /anaconda3/lib/python3.6/site-packages (2.19.1)\n",
      "Requirement already satisfied: certifi>=2017.4.17 in /anaconda3/lib/python3.6/site-packages (from requests) (2018.4.16)\n",
      "Requirement already satisfied: chardet<3.1.0,>=3.0.2 in /anaconda3/lib/python3.6/site-packages (from requests) (3.0.4)\n",
      "Requirement already satisfied: urllib3<1.24,>=1.21.1 in /anaconda3/lib/python3.6/site-packages (from requests) (1.22)\n",
      "Requirement already satisfied: idna<2.8,>=2.5 in /anaconda3/lib/python3.6/site-packages (from requests) (2.6)\n",
      "Requirement already satisfied: requests in /anaconda3/lib/python3.6/site-packages (2.19.1)\n",
      "Requirement already satisfied: idna<2.8,>=2.5 in /anaconda3/lib/python3.6/site-packages (from requests) (2.6)\n",
      "Requirement already satisfied: certifi>=2017.4.17 in /anaconda3/lib/python3.6/site-packages (from requests) (2018.4.16)\n",
      "Requirement already satisfied: urllib3<1.24,>=1.21.1 in /anaconda3/lib/python3.6/site-packages (from requests) (1.22)\n",
      "Requirement already satisfied: chardet<3.1.0,>=3.0.2 in /anaconda3/lib/python3.6/site-packages (from requests) (3.0.4)\n"
     ]
    }
   ],
   "source": [
    "!pip install requests\n",
    "!pip3 install requests\n",
    "import requests\n",
    "import json\n",
    "import urllib\n",
    "\n",
    "import pandas as pd\n",
    "import numpy as np\n",
    "import seaborn as sns\n",
    "import matplotlib.pyplot as plt\n",
    "%matplotlib inline"
   ]
  },
  {
   "cell_type": "code",
   "execution_count": 2,
   "metadata": {},
   "outputs": [],
   "source": [
    "data = []\n",
    "page_number = 1\n",
    "signal = []\n",
    "\n",
    "#should_request == True\n",
    "#for i in range(3):\n",
    "\n",
    "def get_bike_data():\n",
    "    url = 'https://bikeindex.org:443/api/v3/search?'\n",
    "    parameters = {'page:':str(page_number),\n",
    "              'per_page':100,\n",
    "              'location':'IP',\n",
    "              'distance':25,\n",
    "              'stolenness':'stolen'}\n",
    "    qry = urllib.parse.urlencode(parameters).replace('%3A', '')\n",
    "    s = requests.Session() #Create a Session object -  <requests.sessions.Session object at 0x1016c0198>\n",
    "    req = requests.Request(method='GET', url=url) #<Request [GET]>\n",
    "    prep = req.prepare() #<PreparedRequest [GET]>\n",
    "    prep.url = url + qry #https://bikeindex.org:443/api/v3/search?page=2&per_page=100&location=IP&distance=25&stolenness=stolen\n",
    "    result = s.send(prep) #<Response [200]>\n",
    "    result.raise_for_status()\n",
    "\n",
    "    if result.status_code == 200:\n",
    "        signal.clear()\n",
    "        signal.extend(result.json()['bikes'])\n",
    "        #ADD TO MY DATA\n",
    "        data.extend(result.json()['bikes'])"
   ]
  },
  {
   "cell_type": "code",
   "execution_count": 3,
   "metadata": {},
   "outputs": [],
   "source": [
    "get_bike_data()\n",
    "\n",
    "while len(signal) > 0:\n",
    "    page_number = page_number + 1\n",
    "    get_bike_data()\n",
    "    if len(signal) == 0:\n",
    "        break\n",
    "        \n",
    "bike_data = pd.DataFrame(data)\n",
    "bike_data.to_csv(path_or_buf='/Users/lizchan/ds_foundations/final_project/bike_index_api.csv')"
   ]
  },
  {
   "cell_type": "code",
   "execution_count": 4,
   "metadata": {},
   "outputs": [
    {
     "data": {
      "text/plain": [
       "61585"
      ]
     },
     "execution_count": 4,
     "metadata": {},
     "output_type": "execute_result"
    }
   ],
   "source": [
    "len(data)"
   ]
  },
  {
   "cell_type": "code",
   "execution_count": null,
   "metadata": {},
   "outputs": [],
   "source": [
    "# YAY! :) Note: Data as of 10/20/2018"
   ]
  }
 ],
 "metadata": {
  "kernelspec": {
   "display_name": "Python 3",
   "language": "python",
   "name": "python3"
  },
  "language_info": {
   "codemirror_mode": {
    "name": "ipython",
    "version": 3
   },
   "file_extension": ".py",
   "mimetype": "text/x-python",
   "name": "python",
   "nbconvert_exporter": "python",
   "pygments_lexer": "ipython3",
   "version": "3.6.5"
  }
 },
 "nbformat": 4,
 "nbformat_minor": 2
}
