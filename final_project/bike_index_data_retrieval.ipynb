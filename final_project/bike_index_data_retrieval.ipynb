{
 "cells": [
  {
   "cell_type": "code",
   "execution_count": 7,
   "metadata": {
    "scrolled": true
   },
   "outputs": [
    {
     "name": "stdout",
     "output_type": "stream",
     "text": [
      "Requirement already satisfied: requests in /anaconda3/lib/python3.6/site-packages (2.19.1)\n",
      "Requirement already satisfied: certifi>=2017.4.17 in /anaconda3/lib/python3.6/site-packages (from requests) (2018.4.16)\n",
      "Requirement already satisfied: idna<2.8,>=2.5 in /anaconda3/lib/python3.6/site-packages (from requests) (2.6)\n",
      "Requirement already satisfied: chardet<3.1.0,>=3.0.2 in /anaconda3/lib/python3.6/site-packages (from requests) (3.0.4)\n",
      "Requirement already satisfied: urllib3<1.24,>=1.21.1 in /anaconda3/lib/python3.6/site-packages (from requests) (1.22)\n",
      "Requirement already satisfied: requests in /anaconda3/lib/python3.6/site-packages (2.19.1)\n",
      "Requirement already satisfied: idna<2.8,>=2.5 in /anaconda3/lib/python3.6/site-packages (from requests) (2.6)\n",
      "Requirement already satisfied: urllib3<1.24,>=1.21.1 in /anaconda3/lib/python3.6/site-packages (from requests) (1.22)\n",
      "Requirement already satisfied: certifi>=2017.4.17 in /anaconda3/lib/python3.6/site-packages (from requests) (2018.4.16)\n",
      "Requirement already satisfied: chardet<3.1.0,>=3.0.2 in /anaconda3/lib/python3.6/site-packages (from requests) (3.0.4)\n"
     ]
    }
   ],
   "source": [
    "!pip install requests\n",
    "!pip3 install requests\n",
    "import requests\n",
    "import json\n",
    "import urllib\n",
    "\n",
    "import pandas as pd\n",
    "import numpy as np\n",
    "import seaborn as sns\n",
    "import matplotlib.pyplot as plt\n",
    "%matplotlib inline"
   ]
  },
  {
   "cell_type": "code",
   "execution_count": 2,
   "metadata": {},
   "outputs": [],
   "source": [
    "data = []\n",
    "page_number = 1\n",
    "signal = []\n",
    "\n",
    "#should_request == True\n",
    "#for i in range(3):\n",
    "\n",
    "def get_bike_data():\n",
    "    url = 'https://bikeindex.org:443/api/v3/search?'\n",
    "    parameters = {'page:':str(page_number),\n",
    "              'per_page':100,\n",
    "              'location':'IP',\n",
    "              'distance':25,\n",
    "              'stolenness':'stolen'}\n",
    "    qry = urllib.parse.urlencode(parameters).replace('%3A', '')\n",
    "    s = requests.Session() #Create a Session object -  <requests.sessions.Session object at 0x1016c0198>\n",
    "    req = requests.Request(method='GET', url=url) #<Request [GET]>\n",
    "    prep = req.prepare() #<PreparedRequest [GET]>\n",
    "    prep.url = url + qry #https://bikeindex.org:443/api/v3/search?page=2&per_page=100&location=IP&distance=25&stolenness=stolen\n",
    "    result = s.send(prep) #<Response [200]>\n",
    "    result.raise_for_status()\n",
    "\n",
    "    if result.status_code == 200:\n",
    "        signal.clear()\n",
    "        signal.extend(result.json()['bikes'])\n",
    "        #ADD TO MY DATA\n",
    "        data.extend(result.json()['bikes'])"
   ]
  },
  {
   "cell_type": "code",
   "execution_count": 3,
   "metadata": {},
   "outputs": [],
   "source": [
    "get_bike_data()\n",
    "\n",
    "while len(signal) > 0:\n",
    "    page_number = page_number + 1\n",
    "    get_bike_data()\n",
    "    if len(signal) == 0:\n",
    "        break\n",
    "        \n",
    "bike_data = pd.DataFrame(data)\n",
    "bike_data.to_csv(path_or_buf='/Users/lizchan/ds_foundations/final_project/bike_index_api.csv')"
   ]
  },
  {
   "cell_type": "code",
   "execution_count": 4,
   "metadata": {},
   "outputs": [
    {
     "data": {
      "text/plain": [
       "61585"
      ]
     },
     "execution_count": 4,
     "metadata": {},
     "output_type": "execute_result"
    }
   ],
   "source": [
    "len(data)"
   ]
  },
  {
   "cell_type": "code",
   "execution_count": null,
   "metadata": {},
   "outputs": [],
   "source": [
    "# YAY! :) Note: Data as of 10/20/2018"
   ]
  },
  {
   "cell_type": "code",
   "execution_count": 10,
   "metadata": {},
   "outputs": [],
   "source": [
    "take_a_look = pd.read_csv('bike_index_api.csv')"
   ]
  },
  {
   "cell_type": "code",
   "execution_count": 12,
   "metadata": {},
   "outputs": [
    {
     "data": {
      "text/plain": [
       "0                         Seattle,WA,98115\n",
       "1                         Seattle,WA,98105\n",
       "2                         Seattle,WA,98101\n",
       "3                                      NaN\n",
       "4                         Boulder,CO,80303\n",
       "5                        Portland,OR,97206\n",
       "6                            Bend,OR,97701\n",
       "7                        Portland,OR,97206\n",
       "8                        Austin,78758-7776\n",
       "9                        Portland,OR,97206\n",
       "10                         Austin,TX,78705\n",
       "11                   Santa Monica,CA,90401\n",
       "12                         Denver,CO,80224\n",
       "13                         Denver,CO,80218\n",
       "14                   Indianapolis,IN,46204\n",
       "15                   Indianapolis,IN,46204\n",
       "16                   Redwood City,CA,94064\n",
       "17                    Minneapolis,MN,55401\n",
       "18                      Los Gatos,CA,95032\n",
       "19                    New Orleans,LA,70124\n",
       "20                       Portland,OR,97217\n",
       "21                          Tempe,AZ,85282\n",
       "22                      Palo Alto,CA,94306\n",
       "23                         Denver,CO,80202\n",
       "24                      Littleton,CO,80122\n",
       "25                                     NaN\n",
       "26                                     NaN\n",
       "27                        Seattle,WA,98109\n",
       "28                        Enschede,7511 AE\n",
       "29                    New Orleans,LA,70117\n",
       "                       ...                \n",
       "61555                 Old Hickory,TN,37138\n",
       "61556                 Northampton,MA,01063\n",
       "61557                    Portland,OR,97212\n",
       "61558              New Alexandria,PA,15670\n",
       "61559                   Corvallis,OR,97333\n",
       "61560                      Eugene,OR,97401\n",
       "61561               San Francisco,CA,94117\n",
       "61562                 Miami Beach,FL,33140\n",
       "61563                    Portland,OR,97203\n",
       "61564                       Miami,FL,33173\n",
       "61565                        Ames,IA,50011\n",
       "61566                     Red Deer,t4n 5h5\n",
       "61567                     Buffalo,NY,14215\n",
       "61568                         Boston,02215\n",
       "61569                   Indianapolis,46268\n",
       "61570                    Minneapolis,55418\n",
       "61571                     San Francisco,CA\n",
       "61572                     Phoenix,AZ,85032\n",
       "61573                   Champaign,IL,61820\n",
       "61574                           Raleigh,NC\n",
       "61575                           Phoenix,AZ\n",
       "61576    F & M College Campus,PA,Lancaster\n",
       "61577                                  NaN\n",
       "61578                                  NaN\n",
       "61579                                  NaN\n",
       "61580                                  NaN\n",
       "61581                                  NaN\n",
       "61582                                  NaN\n",
       "61583                                  NaN\n",
       "61584                                  NaN\n",
       "Name: stolen_location, Length: 61585, dtype: object"
      ]
     },
     "execution_count": 12,
     "metadata": {},
     "output_type": "execute_result"
    }
   ],
   "source": [
    "df = take_a_look['stolen_location']\n",
    "df"
   ]
  },
  {
   "cell_type": "code",
   "execution_count": null,
   "metadata": {},
   "outputs": [],
   "source": []
  }
 ],
 "metadata": {
  "kernelspec": {
   "display_name": "Python 3",
   "language": "python",
   "name": "python3"
  },
  "language_info": {
   "codemirror_mode": {
    "name": "ipython",
    "version": 3
   },
   "file_extension": ".py",
   "mimetype": "text/x-python",
   "name": "python",
   "nbconvert_exporter": "python",
   "pygments_lexer": "ipython3",
   "version": "3.6.5"
  }
 },
 "nbformat": 4,
 "nbformat_minor": 2
}
